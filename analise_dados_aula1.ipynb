{
  "nbformat": 4,
  "nbformat_minor": 0,
  "metadata": {
    "colab": {
      "provenance": [],
      "include_colab_link": true
    },
    "kernelspec": {
      "name": "python3",
      "display_name": "Python 3"
    },
    "language_info": {
      "name": "python"
    }
  },
  "cells": [
    {
      "cell_type": "markdown",
      "metadata": {
        "id": "view-in-github",
        "colab_type": "text"
      },
      "source": [
        "<a href=\"https://colab.research.google.com/github/CamileXavierMedina/portifoliohub/blob/main/C%C3%B3pia_de_ter%C3%A7a_aula1.ipynb\" target=\"_parent\"><img src=\"https://colab.research.google.com/assets/colab-badge.svg\" alt=\"Open In Colab\"/></a>"
      ]
    },
    {
      "cell_type": "code",
      "execution_count": null,
      "metadata": {
        "colab": {
          "base_uri": "https://localhost:8080/"
        },
        "id": "SdniWHTaAF5N",
        "outputId": "fbeeb223-0e7e-48a7-d85d-43182566b318"
      },
      "outputs": [
        {
          "output_type": "stream",
          "name": "stdout",
          "text": [
            "Hello, w orld!\n"
          ]
        }
      ],
      "source": [
        "# Mostrando algo na tela: saída de dados\n",
        "#fluxograma 1\n",
        "print(\"Hello, w orld!\")"
      ]
    },
    {
      "cell_type": "code",
      "source": [
        "# Primeiros erros\n",
        "print(\"casa\") # sensível a maíuscula/minúscula\n"
      ],
      "metadata": {
        "colab": {
          "base_uri": "https://localhost:8080/"
        },
        "id": "9saQjgcADz9D",
        "outputId": "5c757738-4ef1-4dd1-c3e3-b52853c7beb7"
      },
      "execution_count": null,
      "outputs": [
        {
          "output_type": "stream",
          "name": "stdout",
          "text": [
            "casa\n"
          ]
        }
      ]
    },
    {
      "cell_type": "code",
      "source": [
        "\"\"\"\n",
        "Comentário\n",
        "de\n",
        "bloco\n",
        "\"\"\"\n",
        "\n",
        "#Comentário de linha"
      ],
      "metadata": {
        "colab": {
          "base_uri": "https://localhost:8080/",
          "height": 35
        },
        "id": "5XZ_DmzhG64g",
        "outputId": "9bafec9a-f0a4-451e-d416-3bdcb6d4dd50"
      },
      "execution_count": null,
      "outputs": [
        {
          "output_type": "execute_result",
          "data": {
            "text/plain": [
              "'\\nComentário\\nde\\nbloco\\n'"
            ],
            "application/vnd.google.colaboratory.intrinsic+json": {
              "type": "string"
            }
          },
          "metadata": {},
          "execution_count": 3
        }
      ]
    },
    {
      "cell_type": "code",
      "source": [
        "\"Santos\";\n",
        "\n",
        "\n"
      ],
      "metadata": {
        "id": "FGBD0QBCH3Vr"
      },
      "execution_count": null,
      "outputs": []
    },
    {
      "cell_type": "code",
      "source": [
        "print(\"Sou um comentário\")"
      ],
      "metadata": {
        "colab": {
          "base_uri": "https://localhost:8080/"
        },
        "id": "BGfDCqZGH7Ti",
        "outputId": "51a48d3f-7349-43b1-e4b1-262af7320190"
      },
      "execution_count": null,
      "outputs": [
        {
          "output_type": "stream",
          "name": "stdout",
          "text": [
            "Sou um comentário\n"
          ]
        }
      ]
    },
    {
      "cell_type": "code",
      "source": [
        "# As aspas simples ou duplas: ambas funcionam em python!!\n",
        "\n",
        "print('casa')\n",
        "print(\"casa!\")\n",
        "#printcomeçar e terminar com as mesmas"
      ],
      "metadata": {
        "colab": {
          "base_uri": "https://localhost:8080/"
        },
        "id": "m4O1lL3DIocI",
        "outputId": "4629942b-4ad1-4bb1-9225-2c7dcb78c513"
      },
      "execution_count": null,
      "outputs": [
        {
          "output_type": "stream",
          "name": "stdout",
          "text": [
            "casa\n",
            "casa!\n"
          ]
        }
      ]
    },
    {
      "cell_type": "code",
      "source": [
        "#Não recomendo aspas triplas (funciona mas mais pra frente darei errado)\n",
        "print('''casa''')\n",
        "print(\"\"\"casa!\"\"\")"
      ],
      "metadata": {
        "colab": {
          "base_uri": "https://localhost:8080/"
        },
        "id": "rj2qzWGxJPGJ",
        "outputId": "2d58c1c1-6888-4032-b142-6ac6d9558b39"
      },
      "execution_count": null,
      "outputs": [
        {
          "output_type": "stream",
          "name": "stdout",
          "text": [
            "casa\n",
            "casa!\n"
          ]
        }
      ]
    },
    {
      "cell_type": "code",
      "source": [
        "# Misturando aspas simples e duplas\n",
        "print(\"let's go!\")\n",
        "print('Ele foi \"embora\".')"
      ],
      "metadata": {
        "colab": {
          "base_uri": "https://localhost:8080/"
        },
        "id": "KldVE0nNJldA",
        "outputId": "7ba1392b-d2e2-4cee-8db7-c9f3156af05e"
      },
      "execution_count": null,
      "outputs": [
        {
          "output_type": "stream",
          "name": "stdout",
          "text": [
            "let's go!\n",
            "Ele foi \"embora\".\n"
          ]
        }
      ]
    },
    {
      "cell_type": "markdown",
      "source": [
        "# Título\n",
        "## subtítulo\n",
        "### subtítulo 1\n",
        "#### texto\n"
      ],
      "metadata": {
        "id": "83j_E4sYKaHh"
      }
    },
    {
      "cell_type": "markdown",
      "source": [
        "## Tipos de dados\n",
        "- inteiros      --> int\n",
        "- reais(float)  --> float\n",
        "- boolean(v e F)--> bool\n",
        "- string (texto)--> str"
      ],
      "metadata": {
        "id": "lUWmnilqKte0"
      }
    },
    {
      "cell_type": "code",
      "source": [
        "# Criando variáveis\n",
        "inteiro = 23\n",
        "real = 3.14\n",
        "teste = True # False\n",
        "texto = \"Sou uma string\"\n"
      ],
      "metadata": {
        "id": "M02LZaGCLUT7"
      },
      "execution_count": null,
      "outputs": []
    },
    {
      "cell_type": "code",
      "source": [
        "print(inteiro)\n",
        "print(real)\n",
        "print(teste)\n",
        "print(texto)\n"
      ],
      "metadata": {
        "colab": {
          "base_uri": "https://localhost:8080/"
        },
        "id": "CuF7TYOiMZM5",
        "outputId": "46ac6980-d63e-4635-aace-e3124d226542"
      },
      "execution_count": null,
      "outputs": [
        {
          "output_type": "stream",
          "name": "stdout",
          "text": [
            "23\n",
            "3.14\n",
            "True\n",
            "Sou uma string\n"
          ]
        }
      ]
    },
    {
      "cell_type": "code",
      "source": [
        "\n",
        "\n",
        "inteiro = 100\n",
        "print(inteiro)\n",
        "inteiro =203.45\n",
        "print(inteiro)\n",
        "intiero = False\n",
        "print(inteiro)\n",
        "inteiro = \"texto...\"\n",
        "print(inteiro)\n"
      ],
      "metadata": {
        "colab": {
          "base_uri": "https://localhost:8080/"
        },
        "id": "a36A1g8eM7-v",
        "outputId": "02320dc3-2e36-49a6-837d-d96ff71bde00"
      },
      "execution_count": null,
      "outputs": [
        {
          "output_type": "stream",
          "name": "stdout",
          "text": [
            "100\n",
            "203.45\n",
            "203.45\n",
            "texto...\n"
          ]
        }
      ]
    },
    {
      "cell_type": "code",
      "source": [
        "#Descobrindo o tipo da variavel: type()\n",
        "inteiro = 100\n",
        "type (inteiro)\n",
        "\n",
        "inteiro = 100\n",
        "print(type(inteiro))\n",
        "inteiro =203.45\n",
        "print(type(inteiro))\n",
        "intiero = False\n",
        "print(type(inteiro))\n",
        "inteiro = \"texto...\"\n",
        "print(type(inteiro))"
      ],
      "metadata": {
        "colab": {
          "base_uri": "https://localhost:8080/"
        },
        "id": "LYUVH89JNb9g",
        "outputId": "ce60aacc-1ce5-45a1-edd9-d055ed688750"
      },
      "execution_count": null,
      "outputs": [
        {
          "output_type": "stream",
          "name": "stdout",
          "text": [
            "<class 'int'>\n",
            "<class 'float'>\n",
            "<class 'float'>\n",
            "<class 'str'>\n"
          ]
        }
      ]
    },
    {
      "cell_type": "code",
      "source": [
        "inteiro"
      ],
      "metadata": {
        "colab": {
          "base_uri": "https://localhost:8080/"
        },
        "id": "H2OtPe2ENoNn",
        "outputId": "5d27ec70-fb86-4a16-ba53-b26d3d84e768"
      },
      "execution_count": null,
      "outputs": [
        {
          "output_type": "execute_result",
          "data": {
            "text/plain": [
              "100"
            ]
          },
          "metadata": {},
          "execution_count": 43
        }
      ]
    },
    {
      "cell_type": "markdown",
      "source": [
        "## Operações aritméticas\n",
        "- '+'  $\\rightarrow$ Adição\n",
        "- '-'  $\\rightarrow$ Subtração\n",
        "- '*'  $\\rightarrow$ Multiplicação\n",
        "- '/'  $\\rightarrow$ Divisão\n",
        "- '//' $\\rightarrow$ Divisão de inteiros\n",
        "- '%'  $\\rightarrow$ Resto da divisão inteira\n",
        "- '**' $\\rightarrow$ Exponenciação"
      ],
      "metadata": {
        "id": "zX8ri0I4Oq6H"
      }
    },
    {
      "cell_type": "code",
      "source": [
        "x =  2\n",
        "y = 3\n",
        "z = 5\n",
        "\n",
        "print(f'(x) + (y)= {x + y}') #\n",
        "print(f'(x) - (y)= {x - y}') #\n",
        "print(f'(x) * (y)= {x * y}') #\n",
        "print(f'(x) / (y)= {x / y}') #\n",
        "print(f'(x) //(y)= {x // y}') #\n",
        "print(f'(x) % (y)= {x % y}') #\n",
        "print(f'(x) % (y)= {y % x}') #\n",
        "print(f'(x) **(y)= {x ** y}') #"
      ],
      "metadata": {
        "colab": {
          "base_uri": "https://localhost:8080/"
        },
        "id": "gj0K7rnwOpZo",
        "outputId": "7b807bfa-6b5f-44cd-ca96-119c058f95ca"
      },
      "execution_count": null,
      "outputs": [
        {
          "output_type": "stream",
          "name": "stdout",
          "text": [
            "(x) + (y)= 5\n",
            "(x) - (y)= -1\n",
            "(x) * (y)= 6\n",
            "(x) / (y)= 0.6666666666666666\n",
            "(x) //(y)= 0\n",
            "(x) % (y)= 2\n",
            "(x) % (y)= 1\n",
            "(x) **(y)= 8\n"
          ]
        }
      ]
    },
    {
      "cell_type": "code",
      "source": [
        "#fluxogrma 2\n",
        "numero = input(\"Digite um numero: \")\n",
        "print('Digite um nunmero:')"
      ],
      "metadata": {
        "colab": {
          "base_uri": "https://localhost:8080/"
        },
        "id": "ZUdWcZVXbfUW",
        "outputId": "38cd1b2e-9ee5-421f-b388-592fd011d395"
      },
      "execution_count": null,
      "outputs": [
        {
          "output_type": "stream",
          "name": "stdout",
          "text": [
            "Digite um numero: 1\n",
            "1\n"
          ]
        }
      ]
    },
    {
      "cell_type": "code",
      "source": [
        "#Fazendo a tarefa acima em uma linha\n",
        "print(\"O numero digitado foi: \", input('Digite um nunmero:'))"
      ],
      "metadata": {
        "id": "bSVY8UOVOpe3",
        "colab": {
          "base_uri": "https://localhost:8080/"
        },
        "outputId": "4977fea3-87ff-4e88-973c-56bbdc90c7a9"
      },
      "execution_count": null,
      "outputs": [
        {
          "output_type": "stream",
          "name": "stdout",
          "text": [
            "Digite um nunmero:222\n",
            "O numero digitado foi:  222\n"
          ]
        }
      ]
    },
    {
      "cell_type": "code",
      "source": [
        "# fluxograma 3\n",
        "\n",
        "ano = input('Digite o seu ano de nascimento: ')\n",
        "idade = 2025 - ano\n",
        "print(ano, type(ano))"
      ],
      "metadata": {
        "collapsed": true,
        "id": "St8-gZQTc-dl"
      },
      "execution_count": null,
      "outputs": []
    },
    {
      "cell_type": "code",
      "source": [
        "# Cast/Casting --> conversao de tipo\n",
        "\n",
        "ano = int('2000') # convertendo de string pra inteiro\n",
        "print(ano, type(ano))\n",
        "\n",
        "numero = float('2000') # convertendo de string pra float\n",
        "print(numero, type(numero))"
      ],
      "metadata": {
        "colab": {
          "base_uri": "https://localhost:8080/"
        },
        "id": "CmMp7uI6eSxy",
        "outputId": "5bc80e6b-3346-40d2-b513-b292f725a88c"
      },
      "execution_count": null,
      "outputs": [
        {
          "output_type": "stream",
          "name": "stdout",
          "text": [
            "2000 <class 'int'>\n",
            "2000.0 <class 'float'>\n"
          ]
        }
      ]
    },
    {
      "cell_type": "code",
      "source": [
        "# fluxograma 3 (com casting)\n",
        "\n",
        "ano = int(input('Digite o seu ano de nascimento: '))\n",
        "idade = 2025 - ano #erro: operação com string e inteiro invalida\n",
        "print(f'A sua idade no fim de 2025 será {idade} ano(s).') # pra colocar variavel utilizar a chave"
      ],
      "metadata": {
        "colab": {
          "base_uri": "https://localhost:8080/"
        },
        "id": "HFmYbXwSeS1H",
        "outputId": "cece6a1d-5947-49bf-f0c3-3e267ea96bc0"
      },
      "execution_count": null,
      "outputs": [
        {
          "output_type": "stream",
          "name": "stdout",
          "text": [
            "Digite o seu ano de nascimento: 2000\n",
            "A sua idade no fim de 2025 será 25 ano(s).\n"
          ]
        }
      ]
    }
  ]
}
