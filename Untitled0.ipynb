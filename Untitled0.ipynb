{
  "nbformat": 4,
  "nbformat_minor": 0,
  "metadata": {
    "colab": {
      "provenance": [],
      "authorship_tag": "ABX9TyMovBYTAfWrRjdFz+rCMnIo",
      "include_colab_link": true
    },
    "kernelspec": {
      "name": "python3",
      "display_name": "Python 3"
    },
    "language_info": {
      "name": "python"
    }
  },
  "cells": [
    {
      "cell_type": "markdown",
      "metadata": {
        "id": "view-in-github",
        "colab_type": "text"
      },
      "source": [
        "<a href=\"https://colab.research.google.com/github/CamileXavierMedina/portifoliohub/blob/main/Untitled0.ipynb\" target=\"_parent\"><img src=\"https://colab.research.google.com/assets/colab-badge.svg\" alt=\"Open In Colab\"/></a>"
      ]
    },
    {
      "cell_type": "code",
      "execution_count": null,
      "metadata": {
        "id": "ZaR5nRvbJLLE",
        "colab": {
          "base_uri": "https://localhost:8080/"
        },
        "outputId": "8a38578a-2996-461b-a845-c710fa7338e4"
      },
      "outputs": [
        {
          "output_type": "stream",
          "name": "stdout",
          "text": [
            "Camile!\n"
          ]
        }
      ],
      "source": [
        "#Exercicio 01\n",
        "print(\"Camile!\")"
      ]
    },
    {
      "cell_type": "code",
      "source": [
        "#Exercicio 02\n",
        "print(\"O Primeiro nome e Sobrenome digitado foi: \", input('Digite seu primeiro nome e sobrenome:'))"
      ],
      "metadata": {
        "id": "bSVY8UOVOpe3",
        "colab": {
          "base_uri": "https://localhost:8080/"
        },
        "outputId": "f309bac8-c5cb-4199-807e-5f1061e1f39e"
      },
      "execution_count": null,
      "outputs": [
        {
          "output_type": "stream",
          "name": "stdout",
          "text": [
            "Digite seu primeiro nome e sobrenome:ssd ggg\n",
            "O Primeiro nome e Sobrenome digitado foi:  ssd ggg\n"
          ]
        }
      ]
    },
    {
      "cell_type": "code",
      "source": [
        "\n",
        "#Exercicio 03\n",
        "print(\"\"\"\n",
        "x         x\n",
        "  x     x\n",
        "   x   x\n",
        "     x\n",
        "   x  x\n",
        " x      x\n",
        "x         x\"\"\")"
      ],
      "metadata": {
        "colab": {
          "base_uri": "https://localhost:8080/"
        },
        "id": "t-rKhUcfMKs3",
        "outputId": "d3796165-5868-4cc8-fdca-3b487d334327"
      },
      "execution_count": null,
      "outputs": [
        {
          "output_type": "stream",
          "name": "stdout",
          "text": [
            "\n",
            " x        x\n",
            "  x     x\n",
            "   x   x\n",
            "     x\n",
            "   x  x\n",
            " x      x \n",
            "x        x\n"
          ]
        }
      ]
    },
    {
      "cell_type": "code",
      "source": [
        "#Exercicio 04\n",
        "\n",
        "dia = int(input('Digite o dia do seu aniversario: '))\n",
        "mes = int(input('Digite o mes do seu aniversario: '))\n",
        "\n",
        "if mes == 4:\n",
        "  diff_dias = dia - 1\n",
        "  if diff_dias == 0:\n",
        "    print('Feliz aniversario')\n",
        "  else:\n",
        "      if diff_dias > 1:\n",
        "        m = 'm'\n",
        "        s = 's'\n",
        "        print(f\"Falta{m} {diff_dias} dia{s} para o seu aniversario.\")\n",
        "  else: mes == 5:\n",
        "    diff_dias = 30 + dia - 1\n",
        "    print(f\"Faltam {diff_dias} pra seu aniversario.\")\n"
      ],
      "metadata": {
        "id": "3BnxODxDMlQG",
        "colab": {
          "base_uri": "https://localhost:8080/"
        },
        "outputId": "5344362e-7a39-40c4-e1bc-f56731c13535"
      },
      "execution_count": null,
      "outputs": [
        {
          "output_type": "stream",
          "name": "stdout",
          "text": [
            "Digite o dia do seu aniversario: 20\n",
            "Digite o mes do seu aniversario: 4\n",
            "Faltam 19 dias para o seu aniversario.\n"
          ]
        }
      ]
    },
    {
      "cell_type": "code",
      "source": [
        "# f-string\n",
        "print(f'Começo {dia} a escrever')"
      ],
      "metadata": {
        "colab": {
          "base_uri": "https://localhost:8080/"
        },
        "id": "mJ4pOGDng5bR",
        "outputId": "084cd16a-cef4-4d8f-b781-0316948776ae"
      },
      "execution_count": null,
      "outputs": [
        {
          "output_type": "stream",
          "name": "stdout",
          "text": [
            "Começo 11 a escrever\n"
          ]
        }
      ]
    }
  ]
}